{
  "nbformat": 4,
  "nbformat_minor": 0,
  "metadata": {
    "colab": {
      "provenance": [],
      "include_colab_link": true
    },
    "kernelspec": {
      "name": "python3",
      "display_name": "Python 3"
    },
    "language_info": {
      "name": "python"
    }
  },
  "cells": [
    {
      "cell_type": "markdown",
      "metadata": {
        "id": "view-in-github",
        "colab_type": "text"
      },
      "source": [
        "<a href=\"https://colab.research.google.com/github/beamoow/beamoow/blob/master/ProjectDSI200-WebScrapping.ipynb\" target=\"_parent\"><img src=\"https://colab.research.google.com/assets/colab-badge.svg\" alt=\"Open In Colab\"/></a>"
      ]
    },
    {
      "cell_type": "markdown",
      "metadata": {
        "id": "XOVZsCONaMJ9"
      },
      "source": [
        "# ***Data Visualization*** "
      ]
    },
    {
      "cell_type": "markdown",
      "metadata": {
        "id": "JIbD44bUrMMl"
      },
      "source": [
        "**รายชื่อสมาชิก**\n",
        "```\n",
        "1. แพรวา       ประสาทไทย      6424650031 \n",
        "2. อรรถโกวิท    ซู              6424650239\n",
        "3. ต้นตระกูล     จันทร์แดง        6424650528\n",
        "4. ปาณิสรา      วงศ์บุหลัน        6424650577 \n",
        "```\n",
        "\n"
      ]
    },
    {
      "cell_type": "markdown",
      "metadata": {
        "id": "Hb07tid_rTOO"
      },
      "source": [
        " รายงานนี้เป็นส่วนหนึ่งของรายวิชา **DSI 200 (Data Visualization Using Python) การเขียนโปรแกรมเพื่อวิเคราะห์ข้อมูล (DATA ANALYTICS PROGRAMMING)** \n",
        " ซึ่งมีความประสงค์ที่จะศึกษาทักษะภาษา python และเพื่อนำทักษะการการเขียนโปรแกรมและการวิเคราะห์ข้อมูล ผ่านข้อมูลที่อาจารย์ได้แนบมากับเนื้อหางาน \n",
        " โดยจะนำข้อมูลมาวิเคราะห์ และจำแนก จุดประสงค์ข้อมูลของกลุ่มเราที่จะนำเสนอ ทางคณะผู้จัดทำขอขอบคุณ ดร.ศรัณย์ กุลยานนท์ ผู้ให้ความรู้ และแนวทางการศึกษาที่มีข้อมูลอันเป็นประโยชน์ต่อผู้ที่สนใจศึกษาในการเขียนโปรแกรมเป็นอย่างดี"
      ]
    },
    {
      "cell_type": "code",
      "metadata": {
        "id": "9YrwZpZzgL50"
      },
      "source": [
        "import requests                                                            \n",
        "from bs4 import BeautifulSoup                                              \n",
        "import matplotlib.pyplot as plt                                            \n",
        "import pandas as pd                                                        "
      ],
      "execution_count": null,
      "outputs": []
    },
    {
      "cell_type": "markdown",
      "metadata": {
        "id": "vSezEf-QWxZo"
      },
      "source": [
        "#**ตาราง**\n",
        "แสดงค่าของจำนวนนักเรียนที่ลงทะเบียนรายวิชานั้นๆในแต่ละปีการศึกษา และจำนวนนักเรียนที่ทำแบบสอบถามทั้งหมด "
      ]
    },
    {
      "cell_type": "code",
      "metadata": {
        "colab": {
          "base_uri": "https://localhost:8080/",
          "height": 645
        },
        "id": "X3BaOFFkmMR4",
        "outputId": "cffc0308-3632-4ec4-886e-10c9c84b27dc"
      },
      "source": [
        "main_url = 'https://sgulyano.github.io/eval/'                                   \n",
        "html_url = ['01888961.html',                                                    \n",
        "            '34765352.html',\n",
        "            '59077969.html',\n",
        "            '87385371.html',\n",
        "            '94578503.html',\n",
        "            '09934285.html',\n",
        "            '35676402.html',\n",
        "            '63740399.html',\n",
        "            '87545994.html',\n",
        "            '95850887.html',\n",
        "            '16585447.html',\n",
        "            '57138607.html',\n",
        "            '69893123.html',\n",
        "            '89244427.html',\n",
        "            '98742007.html',\n",
        "            '33737452.html',\n",
        "            '58806234.html',\n",
        "            '83499032.html',\n",
        "            '90151389.html']\n",
        "eval_url = [main_url + url for url in html_url]                                 \n",
        "\n",
        "def get_table_data(item):                                                       \n",
        "    data = []                                                                   \n",
        "    table_body = item.find('tbody')                                             \n",
        "    rows = table_body.find_all('tr')                                            \n",
        "    for row in rows:                                                            \n",
        "        cols = row.find_all('td')                                               \n",
        "        cols = [ele.text.strip() for ele in cols]                               \n",
        "        data.append([ele for ele in cols if ele])                               \n",
        "    return data                                                                 \n",
        "\n",
        "all_info = []                                                                   \n",
        "all_ratings = []                                                                \n",
        "\n",
        "for url in eval_url:                                                            \n",
        "    r = requests.get(url)                                                       \n",
        "    soup = BeautifulSoup(r.content, \"html.parser\")                              \n",
        "    tables = soup.find_all(\"table\")                                             \n",
        "\n",
        "    all_info.append(get_table_data(tables[0]))                                  \n",
        "    all_ratings.append(get_table_data(tables[2]))                               \n",
        "data = (all_info, all_ratings)\n",
        "\n",
        "\n",
        "def alphabet ():                                                                \n",
        "    classs = []                                                                 \n",
        "    point = []                                                                  \n",
        "    for j in range(len(html_url)):                                              \n",
        "        classs.append(data[0][j][0][1])                                         \n",
        "        point.append([data[0][j][0][1], j])                                     \n",
        "\n",
        "    test = []                                                                   \n",
        "    results = []                                                                \n",
        "    for check in list(dict.fromkeys(classs)):                                   \n",
        "        for num, checker in enumerate(classs):                                  \n",
        "            if check == checker:                                                \n",
        "                test.append(point[num])                                                                                                                                   \n",
        "        results.append(test) ; test = []                                        \n",
        "    return results                                                              \n",
        "\n",
        "b = alphabet()                                                                  \n",
        "\n",
        "\n",
        "\n",
        "sb = []                                                                         \n",
        "pee = []                                                                        \n",
        "stu = []                                                                        \n",
        "stu_ans = []                                                                    \n",
        "\n",
        "for i in b:                                                                      \n",
        "    for j in i:                                                                 \n",
        "        sb.append(data[0] [j[1]] [0][1])                                        \n",
        "        pee.append(data[0] [j[1]] [2][1])                                       \n",
        "        stu.append(data[0] [j[1]] [4][1])                                       \n",
        "        stu_ans.append(data[0] [j[1]] [5][1])                                   \n",
        "\n",
        "number = {                                                                      \n",
        "    \"Subjects\" : (sb),                                                          \n",
        "    \"Years\" : (pee),                                                            \n",
        "    \"Student\" : (stu),                                                          \n",
        "    \"Student(ANS)\" : (stu_ans)                                                  \n",
        "}\n",
        "\n",
        "\n",
        "pd.DataFrame(number)                                                            "
      ],
      "execution_count": null,
      "outputs": [
        {
          "output_type": "execute_result",
          "data": {
            "text/html": [
              "<div>\n",
              "<style scoped>\n",
              "    .dataframe tbody tr th:only-of-type {\n",
              "        vertical-align: middle;\n",
              "    }\n",
              "\n",
              "    .dataframe tbody tr th {\n",
              "        vertical-align: top;\n",
              "    }\n",
              "\n",
              "    .dataframe thead th {\n",
              "        text-align: right;\n",
              "    }\n",
              "</style>\n",
              "<table border=\"1\" class=\"dataframe\">\n",
              "  <thead>\n",
              "    <tr style=\"text-align: right;\">\n",
              "      <th></th>\n",
              "      <th>Subjects</th>\n",
              "      <th>Years</th>\n",
              "      <th>Student</th>\n",
              "      <th>Student(ANS)</th>\n",
              "    </tr>\n",
              "  </thead>\n",
              "  <tbody>\n",
              "    <tr>\n",
              "      <th>0</th>\n",
              "      <td>ryoivricfq</td>\n",
              "      <td>1/2563</td>\n",
              "      <td>44</td>\n",
              "      <td>9 (20.45%)</td>\n",
              "    </tr>\n",
              "    <tr>\n",
              "      <th>1</th>\n",
              "      <td>ryoivricfq</td>\n",
              "      <td>2/2561</td>\n",
              "      <td>44</td>\n",
              "      <td>7 (15.91%)</td>\n",
              "    </tr>\n",
              "    <tr>\n",
              "      <th>2</th>\n",
              "      <td>ryoivricfq</td>\n",
              "      <td>1/2562</td>\n",
              "      <td>50</td>\n",
              "      <td>12 (24.00%)</td>\n",
              "    </tr>\n",
              "    <tr>\n",
              "      <th>3</th>\n",
              "      <td>bbdfmowkmw</td>\n",
              "      <td>1/2562</td>\n",
              "      <td>43</td>\n",
              "      <td>6 (13.95%)</td>\n",
              "    </tr>\n",
              "    <tr>\n",
              "      <th>4</th>\n",
              "      <td>bbdfmowkmw</td>\n",
              "      <td>2/2563</td>\n",
              "      <td>41</td>\n",
              "      <td>4 (9.76%)</td>\n",
              "    </tr>\n",
              "    <tr>\n",
              "      <th>5</th>\n",
              "      <td>bbdfmowkmw</td>\n",
              "      <td>2/2563</td>\n",
              "      <td>44</td>\n",
              "      <td>6 (13.64%)</td>\n",
              "    </tr>\n",
              "    <tr>\n",
              "      <th>6</th>\n",
              "      <td>bbdfmowkmw</td>\n",
              "      <td>2/2563</td>\n",
              "      <td>45</td>\n",
              "      <td>10 (22.22%)</td>\n",
              "    </tr>\n",
              "    <tr>\n",
              "      <th>7</th>\n",
              "      <td>bbdfmowkmw</td>\n",
              "      <td>2/2562</td>\n",
              "      <td>50</td>\n",
              "      <td>5 (10.00%)</td>\n",
              "    </tr>\n",
              "    <tr>\n",
              "      <th>8</th>\n",
              "      <td>nxwvugfpvk</td>\n",
              "      <td>1/2562</td>\n",
              "      <td>501</td>\n",
              "      <td>94 (18.76%)</td>\n",
              "    </tr>\n",
              "    <tr>\n",
              "      <th>9</th>\n",
              "      <td>nxwvugfpvk</td>\n",
              "      <td>2/2561</td>\n",
              "      <td>326</td>\n",
              "      <td>30 (9.20%)</td>\n",
              "    </tr>\n",
              "    <tr>\n",
              "      <th>10</th>\n",
              "      <td>nxwvugfpvk</td>\n",
              "      <td>2/2562</td>\n",
              "      <td>511</td>\n",
              "      <td>210 (41.10%)</td>\n",
              "    </tr>\n",
              "    <tr>\n",
              "      <th>11</th>\n",
              "      <td>nxwvugfpvk</td>\n",
              "      <td>2/2563</td>\n",
              "      <td>560</td>\n",
              "      <td>175 (31.25%)</td>\n",
              "    </tr>\n",
              "    <tr>\n",
              "      <th>12</th>\n",
              "      <td>ifryvhdgto</td>\n",
              "      <td>2/2561</td>\n",
              "      <td>44</td>\n",
              "      <td>7 (15.91%)</td>\n",
              "    </tr>\n",
              "    <tr>\n",
              "      <th>13</th>\n",
              "      <td>ifryvhdgto</td>\n",
              "      <td>2/2563</td>\n",
              "      <td>46</td>\n",
              "      <td>8 (17.39%)</td>\n",
              "    </tr>\n",
              "    <tr>\n",
              "      <th>14</th>\n",
              "      <td>tqkcxncfqb</td>\n",
              "      <td>1/2563</td>\n",
              "      <td>47</td>\n",
              "      <td>25 (53.19%)</td>\n",
              "    </tr>\n",
              "    <tr>\n",
              "      <th>15</th>\n",
              "      <td>tqkcxncfqb</td>\n",
              "      <td>1/2563</td>\n",
              "      <td>43</td>\n",
              "      <td>29 (67.44%)</td>\n",
              "    </tr>\n",
              "    <tr>\n",
              "      <th>16</th>\n",
              "      <td>thwqmxkbbs</td>\n",
              "      <td>2/2563</td>\n",
              "      <td>43</td>\n",
              "      <td>5 (11.63%)</td>\n",
              "    </tr>\n",
              "    <tr>\n",
              "      <th>17</th>\n",
              "      <td>liprvrawzt</td>\n",
              "      <td>1/2563</td>\n",
              "      <td>43</td>\n",
              "      <td>29 (67.44%)</td>\n",
              "    </tr>\n",
              "    <tr>\n",
              "      <th>18</th>\n",
              "      <td>eguuthmvfq</td>\n",
              "      <td>2/2562</td>\n",
              "      <td>12</td>\n",
              "      <td>6 (50.00%)</td>\n",
              "    </tr>\n",
              "  </tbody>\n",
              "</table>\n",
              "</div>"
            ],
            "text/plain": [
              "      Subjects   Years Student  Student(ANS)\n",
              "0   ryoivricfq  1/2563      44    9 (20.45%)\n",
              "1   ryoivricfq  2/2561      44    7 (15.91%)\n",
              "2   ryoivricfq  1/2562      50   12 (24.00%)\n",
              "3   bbdfmowkmw  1/2562      43    6 (13.95%)\n",
              "4   bbdfmowkmw  2/2563      41     4 (9.76%)\n",
              "5   bbdfmowkmw  2/2563      44    6 (13.64%)\n",
              "6   bbdfmowkmw  2/2563      45   10 (22.22%)\n",
              "7   bbdfmowkmw  2/2562      50    5 (10.00%)\n",
              "8   nxwvugfpvk  1/2562     501   94 (18.76%)\n",
              "9   nxwvugfpvk  2/2561     326    30 (9.20%)\n",
              "10  nxwvugfpvk  2/2562     511  210 (41.10%)\n",
              "11  nxwvugfpvk  2/2563     560  175 (31.25%)\n",
              "12  ifryvhdgto  2/2561      44    7 (15.91%)\n",
              "13  ifryvhdgto  2/2563      46    8 (17.39%)\n",
              "14  tqkcxncfqb  1/2563      47   25 (53.19%)\n",
              "15  tqkcxncfqb  1/2563      43   29 (67.44%)\n",
              "16  thwqmxkbbs  2/2563      43    5 (11.63%)\n",
              "17  liprvrawzt  1/2563      43   29 (67.44%)\n",
              "18  eguuthmvfq  2/2562      12    6 (50.00%)"
            ]
          },
          "metadata": {},
          "execution_count": 9
        }
      ]
    },
    {
      "cell_type": "markdown",
      "metadata": {
        "id": "un9g2Cu_7FcM"
      },
      "source": [
        "**สรุป** : เพื่อให้เห็นภาพรวมจำนวนนักเรียนที่ลงทะเบียนรายวิชานั้นๆในแต่ละปีการศึกษา และจำนวนนักเรียนที่ทำแบบสอบถามทั้งหมด ในแต่ละเว็บได้โดยง่าย"
      ]
    },
    {
      "cell_type": "markdown",
      "metadata": {
        "id": "TrBGlIUZ745k"
      },
      "source": [
        "#**กราฟแท่ง**\n",
        "แสดงจำนวนผลรวมร้อยละการประเมินความพึงพอใจระดับที่ 5 ของนักศึกษาในแต่ละส่วน สำหรับปี 2563 ซึ่งมีรายวิชา tqkcxncfqb และ bbdfmowkmw ที่มีเซคแตกต่างกัน"
      ]
    },
    {
      "cell_type": "markdown",
      "metadata": {
        "id": "Unp71y3ERxyp"
      },
      "source": [
        "\n",
        "\n",
        "> รายวิชา tqkcxncfqb ที่มีเซค zwsgaqcugj และ cqfxaixhuz โดยแสดงผลรวมร้อยละการประเมินความพึงพอใจระดับที่ 5 ทั้ง 3 ส่วน\n",
        "\n"
      ]
    },
    {
      "cell_type": "code",
      "metadata": {
        "colab": {
          "base_uri": "https://localhost:8080/",
          "height": 365
        },
        "id": "hGlanvEtmRLi",
        "outputId": "8be66e1f-1865-4fe8-9a0d-3053a66647de"
      },
      "source": [
        "w1 = []                                                                         \n",
        "w2 = []                                                                         \n",
        "w3 = []                                                                         \n",
        "w4 = []                                                                         \n",
        "\n",
        "for j in [7, 18]:                                                               \n",
        "\n",
        "    w1.append(data[0] [j] [1][1])                                               \n",
        "    w2.append(float(data[1] [j] [12][2]))                                       \n",
        "    w3.append(float(data[1] [j] [23][2]))                                       \n",
        "    w4.append(float(data[1] [j] [30][2]))                                       \n",
        "\n",
        "\n",
        "fig, axes = plt.subplots(nrows=1,ncols=3,figsize=(20,5))                                 \n",
        "\n",
        "\n",
        "axes[0].set_title(\"tqkcxncfqb (2563) \\n PART 1\", color='#000066', fontsize = 14)          \n",
        "axes[0].bar(w1, w2, color='#ADD8E6', width = 0.5)                                         \n",
        "axes[0].set_xlabel('Section', color = '#4682B4', fontsize = 12)                           \n",
        "axes[0].set_ylabel('Percentage of Assessment Level 5', color = '#4682B4', fontsize = 12)  \n",
        "\n",
        "\n",
        "axes[1].set_title(\"tqkcxncfqb (2563) \\n PART 2\", color='#000066', fontsize = 14)          \n",
        "axes[1].bar(w1, w3, color='#ADD8E6', width = 0.5)                                         \n",
        "axes[1].set_xlabel('Section', color = '#4682B4', fontsize = 12)                           \n",
        "axes[1].set_ylabel('Percentage of Assessment Level 5', color = '#4682B4', fontsize = 12)  \n",
        "\n",
        "axes[2].set_title(\"tqkcxncfqb (2563) \\n PART 3\", color='#000066', fontsize = 14)          \n",
        "axes[2].bar(w1, w4, color='#ADD8E6', width = 0.5)                                         \n",
        "axes[2].set_xlabel('Section', color = '#4682B4', fontsize = 12)                           \n",
        "axes[2].set_ylabel('Percentage of Assessment Level 5', color = '#4682B4', fontsize = 12)  \n",
        "\n",
        "plt.tight_layout()                                                                        "
      ],
      "execution_count": null,
      "outputs": [
        {
          "output_type": "display_data",
          "data": {
            "image/png": "[encoded data removed]",
            "text/plain": [
              "<Figure size 1440x360 with 3 Axes>"
            ]
          },
          "metadata": {
            "needs_background": "light"
          }
        }
      ]
    },
    {
      "cell_type": "markdown",
      "metadata": {
        "id": "pepgp0Cl_RGz"
      },
      "source": [
        "**สรุป** : เพื่อเปรียบเทียบว่าในรายวิชา tqkcxncfqb ในปี 2563 เซคใดมีนักศึกษาชื่นชอบมากกว่ากัน โดยสังเกตจากคะแนนการประเมินความพึงพอใจจากแบบประเมินทั้ง 3 ส่วน \n",
        "ในระดับที่ 5 โดยเซค cqfxaizhuz เป็นเซคที่นักศึกษาให้คะแนนการประเมินทั้ง3 ส่วน ในระดับที่5 มากที่สุด จากแต่ละส่วนคิดเป็นร้อยละ63.54, 81.25\tและ58.33 ตามลำดับ"
      ]
    },
    {
      "cell_type": "markdown",
      "metadata": {
        "id": "Ehw_LhNc8MzY"
      },
      "source": [
        "> รายวิชา bbdfmowkmw ที่มีเซค zwsgaqcugj, gxqqnjurxb และ cqfxaixhuz โดยแสดงผลรวมร้อยละการประเมินความพึงพอใจระดับที่ 5 "
      ]
    },
    {
      "cell_type": "code",
      "metadata": {
        "colab": {
          "base_uri": "https://localhost:8080/",
          "height": 354
        },
        "id": "88L2gyzqnL61",
        "outputId": "bbb0ae37-acfe-43b7-b792-7ffda0ab015d"
      },
      "source": [
        "g1 = []                                                                                         \n",
        "g2 = []                                                                                         \n",
        "g3 = []                                                                                         \n",
        "g4 = []                                                                                         \n",
        "\n",
        "for j in [6, 10, 14]:                                                                            \n",
        "\n",
        "    g1.append(data[0] [j] [1][1])                                                              \n",
        "    g2.append(float(data[1] [j] [12][2]))                                                       \n",
        "        \n",
        "\n",
        "plt.rcParams['axes.grid'] = True                                                                \n",
        "plt.rcParams['axes.axisbelow'] = True                                                           \n",
        "plt.rcParams['figure.figsize'] = 10,6                                                          \n",
        "\n",
        "\n",
        "fig, ax = plt.subplots(figsize=(10,5))                                                         \n",
        "plt.title('bbdfmowkmw (2563)', color = '#600318', fontsize = 14)                               \n",
        "\n",
        "bars = ax.bar(x=g1, height=g2, color='#FEC7BB')                                           \n",
        "\n",
        "plt.xlabel('Section', color = '#C85E6C', fontsize = 12)                                         \n",
        "plt.ylabel('Percentage of Assessment Level 5', color = '#C85E6C', fontsize = 12)                \n",
        "plt.ylim(0,70)                                                                                  \n",
        "  \n",
        "for bar in bars:                                                                                \n",
        "    height = bar.get_height()                                                                   \n",
        "    label_x_pos = bar.get_x() + bar.get_width() / 2                                             \n",
        "    ax.text(label_x_pos, height, s=f'{height}', ha='center',va='bottom')                        \n",
        "\n"
      ],
      "execution_count": null,
      "outputs": [
        {
          "output_type": "display_data",
          "data": {
            "image/png": "[encoded data removed]",
            "text/plain": [
              "<Figure size 720x360 with 1 Axes>"
            ]
          },
          "metadata": {
            "needs_background": "light"
          }
        }
      ]
    },
    {
      "cell_type": "markdown",
      "metadata": {
        "id": "Zu9fBcg-AYGs"
      },
      "source": [
        "**สรุป** : เพื่อเปรียบเทียบว่าในรายวิชาbbdfmowkmw ในปี2563 เซคใดมีนักศึกษาชื่นชอบมากกว่ากัน โดยสังเกตจากคะแนนการประเมินความพึงพอใจระดับที่ 5 โดยเซค zwsgaqcugj มีนักศึกษาให้คะแนนการประเมินความพึงพอใจระดับที่ 5 มากที่สุด คิดเป็นร้อยละ 62.5 ตามด้วยเซค cqfxaixhuz คิดเป็นร้อยละ 50 และเซคgxqqnjurxb คิดเป็นร้อยละ 40.63"
      ]
    },
    {
      "cell_type": "markdown",
      "metadata": {
        "id": "jjezQuqSDAnW"
      },
      "source": [
        "#**กราฟแท่งผสมกราฟเส้น**\n",
        "รูปแบบของกราฟแท่งแสดงค่า X-bar รวมของแต่ละรายวิชา ส่วนกราฟเส้นแสดงค่า SD. รวมของแต่ละรายวิชา\n",
        "\n",
        "\n"
      ]
    },
    {
      "cell_type": "code",
      "metadata": {
        "colab": {
          "base_uri": "https://localhost:8080/",
          "height": 412
        },
        "id": "dLkVuTC_TmR1",
        "outputId": "fecd7778-e3cf-4c73-8f24-c429620ea655"
      },
      "source": [
        "dee1 = []                                                                                \n",
        "dee2 = []                                                                                \n",
        "dee3 = []                                                                                \n",
        "\n",
        "for j in [3, 6, 7, 8, 11, 12, 15, 16]:                                                   \n",
        "    dee1.append(data[0] [j] [0] [1])                                                     \n",
        "    dee2.append(float(data[1] [j] [12] [13]))                                            \n",
        "    dee3.append(float(data[1] [j] [12] [14]))                                            \n",
        "\n",
        "plt.rcParams['axes.grid'] = False                                                        \n",
        "plt.rcParams['axes.axisbelow'] = False                                                   \n",
        "plt.rcParams['figure.figsize'] = 12,6                                                    \n",
        "\n",
        "fig, ax1 = plt.subplots()                                                                                                              \n",
        "ax1.set_title(\"Subjects_X-bar_SD.\", fontsize = 20, color = '#708090')                    \n",
        "\n",
        "ax1.bar(dee1, dee2, color = '#8FBC8F', alpha=.3)                                         \n",
        "ax1.set_xlabel(\"subjects\", color = \"black\", fontsize = 12)                               \n",
        "ax1.set_ylabel(\"X-Bar\", color = '#8FBC8F', fontsize = 12)                                \n",
        "ax1.tick_params(\"y\", colors = '#8FBC8F')                                                 \n",
        "\n",
        "ax1.set_ylim(0,5)                                                                        \n",
        "\n",
        "ax2 = ax1.twinx()                                                                        \n",
        "ax2.plot(dee1, dee3, marker = \"o\", color = \"green\")                                      \n",
        "ax2.set_ylabel(\"SD.\", color = \"green\", fontsize = 12)                                    \n",
        "ax2.tick_params(\"y\", colors = \"green\")                                                   \n",
        "\n"
      ],
      "execution_count": null,
      "outputs": [
        {
          "output_type": "display_data",
          "data": {
            "image/png": "[encoded data removed]",
            "text/plain": [
              "<Figure size 864x432 with 2 Axes>"
            ]
          },
          "metadata": {}
        }
      ]
    },
    {
      "cell_type": "markdown",
      "metadata": {
        "id": "DWYLuvkGDEfn"
      },
      "source": [
        "**สรุป** : เพื่อเปรียบเทียบค่าเฉลี่ย(X-bar)รวม และค่าส่วนเบี่ยงเบนมาตรฐาน(SD.)รวม ที่ทำให้แสดงเห็นถึงการกระจายของข้อมูลในแต่ละรายวิชา โดยรายวิชา ryoivricfq มีค่าเฉลี่ยรวมมากที่สุด คิดเป็น 4.4 และรายวิชา thwqmxkbbs มีค่าส่วนเบี่ยงเบนมาตรฐานมากที่สุด คิดเป็น 1.03"
      ]
    },
    {
      "cell_type": "markdown",
      "metadata": {
        "id": "HDjWuiBaE2XC"
      },
      "source": [
        "#**กราฟวงกลม**\n",
        "แสดงจำนวนนักศึกษาที่จดทะเบียนเรียนวิชา bbdfmowkmw ที่มีเซคแตกต่างกันจำนวน 3 เซค"
      ]
    },
    {
      "cell_type": "code",
      "metadata": {
        "colab": {
          "base_uri": "https://localhost:8080/",
          "height": 359
        },
        "id": "-_YrcKJtpfHW",
        "outputId": "531d959c-1b80-46f7-8606-57f873a65082"
      },
      "source": [
        "k1 = []                                                                         \n",
        "k2 = []                                                                         \n",
        "                                                                             \n",
        "for j in [6, 10, 14]:                                                           \n",
        "    k1.append(data[0] [j] [1] [1])                                              \n",
        "    k2.append(data[0] [j] [4] [1])                                              \n",
        "\n",
        "\n",
        "def demo():                                                                     \n",
        "    plt.pie(k2, labels=k1, startangle=90, autopct=\"%1.2f%%\")                    \n",
        "    plt.axis(\"equal\")                                                           \n",
        "    plt.show                                                                    \n",
        "    \n",
        "if __name__ == '__main__':                                                      \n",
        "    demo()                                                                      \n",
        "\n"
      ],
      "execution_count": null,
      "outputs": [
        {
          "output_type": "display_data",
          "data": {
            "image/png": "[encoded data removed]",
            "text/plain": [
              "<Figure size 864x432 with 1 Axes>"
            ]
          },
          "metadata": {}
        }
      ]
    },
    {
      "cell_type": "markdown",
      "metadata": {
        "id": "2Ugl1oevFbgP"
      },
      "source": [
        "**สรุป** : เพื่อเปรียบเทียบจำนวนนักศึกษาว่าสนใจลงทะเบียนในเซคใดของรายวิชา bbdfmowkmw มากกว่ากัน โดยเซค cqfxaixhuz มีนักเรียนที่สนใจและลงทะเบียนมากที่สุด คิดเป็นร้อยละ 34.62 จากทั้ง 3 เซค"
      ]
    },
    {
      "cell_type": "markdown",
      "metadata": {
        "id": "Qdtrsto7fBZy"
      },
      "source": [
        "# THANK YOU"
      ]
    }
  ]
}